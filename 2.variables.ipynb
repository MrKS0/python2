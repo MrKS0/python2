{
 "cells": [
  {
   "cell_type": "code",
   "execution_count": 7,
   "metadata": {},
   "outputs": [
    {
     "name": "stdout",
     "output_type": "stream",
     "text": [
      "value of x: 567 and value of y: 345 and value of z: 786\n"
     ]
    }
   ],
   "source": [
    "x = 567\n",
    "y = (345)\n",
    "z = (786)\n",
    "print(\"value of x:\",x, \"and value of y:\",y, \"and value of z:\",z,)\n"
   ]
  },
  {
   "cell_type": "code",
   "execution_count": 8,
   "metadata": {},
   "outputs": [
    {
     "name": "stdout",
     "output_type": "stream",
     "text": [
      "value of x: 67 and value of z: 76.0\n"
     ]
    }
   ],
   "source": [
    "x = 67\n",
    "y = int(34)\n",
    "z = float(76)\n",
    "print(\"value of x:\",x, \"and value of z:\",z,)\n"
   ]
  },
  {
   "cell_type": "code",
   "execution_count": 2,
   "metadata": {},
   "outputs": [
    {
     "name": "stdout",
     "output_type": "stream",
     "text": [
      "value of z: 345 and value of m: 567 and value of z: 345\n"
     ]
    }
   ],
   "source": [
    "m = 567\n",
    "z = (345)\n",
    "k = str(786)\n",
    "print(\"value of z:\",z, \"and value of m:\",m, \"and value of z:\",z,)\n"
   ]
  }
 ],
 "metadata": {
  "kernelspec": {
   "display_name": "Python 3",
   "language": "python",
   "name": "python3"
  },
  "language_info": {
   "codemirror_mode": {
    "name": "ipython",
    "version": 3
   },
   "file_extension": ".py",
   "mimetype": "text/x-python",
   "name": "python",
   "nbconvert_exporter": "python",
   "pygments_lexer": "ipython3",
   "version": "3.12.6"
  }
 },
 "nbformat": 4,
 "nbformat_minor": 2
}
