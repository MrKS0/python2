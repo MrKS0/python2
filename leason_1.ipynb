{
 "cells": [
  {
   "cell_type": "code",
   "execution_count": 1,
   "metadata": {},
   "outputs": [
    {
     "name": "stdout",
     "output_type": "stream",
     "text": [
      "the result of var1 + var2 is: 50\n"
     ]
    }
   ],
   "source": [
    "#variables\n",
    "var1 = 12\n",
    "var2 = 38\n",
    "sum = var1 + var2\n",
    "print(\"the result of var1 + var2 is:\",sum)"
   ]
  },
  {
   "cell_type": "code",
   "execution_count": 6,
   "metadata": {},
   "outputs": [
    {
     "name": "stdout",
     "output_type": "stream",
     "text": [
      "the result of var1 + var2 is: 1.27\n"
     ]
    }
   ],
   "source": [
    "#variables\n",
    "var1 = 000.970\n",
    "var2 = 000.30\n",
    "sum = var1 + var2\n",
    "print(\"the result of var1 + var2 is:\",sum)"
   ]
  },
  {
   "cell_type": "code",
   "execution_count": 7,
   "metadata": {},
   "outputs": [
    {
     "name": "stdout",
     "output_type": "stream",
     "text": [
      "the result of ks1 - ks2 is: 50\n"
     ]
    }
   ],
   "source": [
    "#variables\n",
    "ks1 = 100\n",
    "ks2 = 50\n",
    "sum = ks1 - ks2\n",
    "print(\"the result of ks1 - ks2 is:\",sum)"
   ]
  },
  {
   "cell_type": "code",
   "execution_count": 2,
   "metadata": {},
   "outputs": [
    {
     "name": "stdout",
     "output_type": "stream",
     "text": [
      "Help on method raw_input in module ipykernel.kernelbase:\n",
      "\n",
      "raw_input(prompt='') method of ipykernel.ipkernel.IPythonKernel instance\n",
      "    Forward raw_input to frontends\n",
      "\n",
      "    Raises\n",
      "    ------\n",
      "    StdinNotImplementedError if active frontend doesn't support stdin.\n",
      "\n"
     ]
    }
   ],
   "source": [
    "help(input)"
   ]
  },
  {
   "cell_type": "code",
   "execution_count": 3,
   "metadata": {},
   "outputs": [
    {
     "name": "stdout",
     "output_type": "stream",
     "text": [
      "tesr school books\n"
     ]
    }
   ],
   "source": [
    "print(\"tesr\",\"school\",\"books\")"
   ]
  },
  {
   "cell_type": "code",
   "execution_count": 11,
   "metadata": {},
   "outputs": [
    {
     "name": "stdout",
     "output_type": "stream",
     "text": [
      "tesr,school,books,ali,[23, 45, 'test'],(23, 67)\n"
     ]
    },
    {
     "data": {
      "text/plain": [
       "tuple"
      ]
     },
     "execution_count": 11,
     "metadata": {},
     "output_type": "execute_result"
    }
   ],
   "source": [
    "name = \"ali\"\n",
    "num = (23 ,67)\n",
    "li = [23, 45, 'test']\n",
    "print(\"tesr\",\"school\",\"books\", name, li,num, sep= ',')\n",
    "\n",
    "type (num)"
   ]
  },
  {
   "cell_type": "code",
   "execution_count": 13,
   "metadata": {},
   "outputs": [
    {
     "name": "stdout",
     "output_type": "stream",
     "text": [
      "tesr,school,books,ali,(23, 45, 'test', 89),67\n"
     ]
    },
    {
     "data": {
      "text/plain": [
       "4"
      ]
     },
     "execution_count": 13,
     "metadata": {},
     "output_type": "execute_result"
    }
   ],
   "source": [
    "name = \"ali\"\n",
    "num = 67\n",
    "li = 23, 45, 'test', 89\n",
    "print(\"tesr\",\"school\",\"books\", name, li,num, sep= ',')\n",
    "len(li)"
   ]
  },
  {
   "cell_type": "code",
   "execution_count": null,
   "metadata": {},
   "outputs": [],
   "source": [
    "#data types built-in python\n",
    "print()\n",
    "input()\n",
    "type()\n",
    "len()\n",
    "int()\n",
    "float()\n",
    "list()\n",
    "range()\n",
    "tuple()\n"
   ]
  },
  {
   "cell_type": "markdown",
   "metadata": {},
   "source": [
    "x = 3456\n",
    "y = 4523"
   ]
  },
  {
   "cell_type": "code",
   "execution_count": null,
   "metadata": {},
   "outputs": [],
   "source": []
  }
 ],
 "metadata": {
  "kernelspec": {
   "display_name": "Python 3",
   "language": "python",
   "name": "python3"
  },
  "language_info": {
   "codemirror_mode": {
    "name": "ipython",
    "version": 3
   },
   "file_extension": ".py",
   "mimetype": "text/x-python",
   "name": "python",
   "nbconvert_exporter": "python",
   "pygments_lexer": "ipython3",
   "version": "3.12.6"
  }
 },
 "nbformat": 4,
 "nbformat_minor": 2
}
